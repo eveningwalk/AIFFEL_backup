{
 "cells": [
  {
   "cell_type": "code",
   "execution_count": 1,
   "id": "fa1255f4",
   "metadata": {},
   "outputs": [],
   "source": [
    "# 필요한 모듈 불러오기\n",
    "from sklearn.datasets import load_diabetes\n",
    "import numpy as np\n",
    "import pandas as pd\n",
    "import matplotlib.pyplot as plt\n",
    "from sklearn.model_selection import train_test_split"
   ]
  },
  {
   "cell_type": "code",
   "execution_count": 2,
   "id": "0dd83ac7",
   "metadata": {},
   "outputs": [],
   "source": [
    "# diabetes 변수에 데이터를 저장하고, 데이터의 feature는 df_X에, label은 df_y에 저장\n",
    "diabetes = load_diabetes()\n",
    "\n",
    "df_X = diabetes.data\n",
    "df_y = diabetes.target"
   ]
  },
  {
   "cell_type": "code",
   "execution_count": 3,
   "id": "bd1e19ee",
   "metadata": {},
   "outputs": [
    {
     "data": {
      "text/plain": [
       "((442, 10), (442,))"
      ]
     },
     "execution_count": 3,
     "metadata": {},
     "output_type": "execute_result"
    }
   ],
   "source": [
    "# 각각을 NumPy 배열로 변환 및 배열 형태 확인\n",
    "X = np.array(df_X)\n",
    "y = np.array(df_y)\n",
    "X.shape, y.shape"
   ]
  },
  {
   "cell_type": "code",
   "execution_count": 4,
   "id": "ffa18912",
   "metadata": {},
   "outputs": [],
   "source": [
    "# scikit-learn의 train_test_split() 메서드를 이용하여 데이터셋을 학습 데이터와 테스트 데이터로 분류\n",
    "X_train, X_test, y_train, y_test = train_test_split(X, y, random_state=42)"
   ]
  },
  {
   "cell_type": "code",
   "execution_count": 5,
   "id": "9bcb8ce2",
   "metadata": {},
   "outputs": [],
   "source": [
    "# 초기 가중치 및 편향의 값을 랜덤하게 지정.\n",
    "W = np.random.randn(10)\n",
    "b = np.random.randn()\n",
    "\n",
    "# 모델 함수 정의. (NumPy의 dot()을 이용하여 feature 행렬과 가중치 행렬을 곱한 후 편향을 더함)\n",
    "def model(X):\n",
    "    pred = np.dot(X, W) + b\n",
    "    return pred"
   ]
  },
  {
   "cell_type": "code",
   "execution_count": 6,
   "id": "8468d9db",
   "metadata": {},
   "outputs": [],
   "source": [
    "# 손실함수 정의. metric이 평균제곱오차(MSE)이므로, 실제 데이터 값과 모델의 예측값의 차이의 제곱의 평균을 계산.\n",
    "def mse_loss(y, pred):\n",
    "    loss = np.mean((y - pred) ** 2)\n",
    "    return loss"
   ]
  },
  {
   "cell_type": "code",
   "execution_count": 7,
   "id": "eec6669e",
   "metadata": {},
   "outputs": [],
   "source": [
    "# 기울기 함수 정의.\n",
    "def gradient(X, y, pred):\n",
    "    # feature 행렬의 전치 행렬과 예측값-실제값을 곱한 후 스케일링하여 기울기를 업데이트한다.\n",
    "    dW = (2 / len(X)) * np.dot(X.T, (pred - y))\n",
    "    # 예측값-실제값의 총합을 스케일링하여 편향을 업데이트한다.\n",
    "    db = (2 / len(X)) * np.sum(pred - y)\n",
    "    return dW, db"
   ]
  },
  {
   "cell_type": "code",
   "execution_count": 8,
   "id": "f84141b4",
   "metadata": {},
   "outputs": [],
   "source": [
    "# 학습률 지정\n",
    "LEARNING_RATE = 0.5"
   ]
  },
  {
   "cell_type": "code",
   "execution_count": 9,
   "id": "0c23c2c2",
   "metadata": {},
   "outputs": [
    {
     "name": "stdout",
     "output_type": "stream",
     "text": [
      "Epoch: 100/5000, Loss: 4048.908770996887\n",
      "Epoch: 200/5000, Loss: 3487.566665105583\n",
      "Epoch: 300/5000, Loss: 3257.6483754278793\n",
      "Epoch: 400/5000, Loss: 3136.001152899024\n",
      "Epoch: 500/5000, Loss: 3064.1010030450643\n",
      "Epoch: 600/5000, Loss: 3019.6569120019267\n",
      "Epoch: 700/5000, Loss: 2991.5253995388302\n",
      "Epoch: 800/5000, Loss: 2973.3981770140454\n",
      "Epoch: 900/5000, Loss: 2961.523792307536\n",
      "Epoch: 1000/5000, Loss: 2953.6180835569658\n",
      "Epoch: 1100/5000, Loss: 2948.2678032213303\n",
      "Epoch: 1200/5000, Loss: 2944.5862405701364\n",
      "Epoch: 1300/5000, Loss: 2942.00951128007\n",
      "Epoch: 1400/5000, Loss: 2940.1742199770165\n",
      "Epoch: 1500/5000, Loss: 2938.8430601999808\n",
      "Epoch: 1600/5000, Loss: 2937.859024822723\n",
      "Epoch: 1700/5000, Loss: 2937.1168906913467\n",
      "Epoch: 1800/5000, Loss: 2936.5452502181006\n",
      "Epoch: 1900/5000, Loss: 2936.095054331879\n",
      "Epoch: 2000/5000, Loss: 2935.732220124848\n",
      "Epoch: 2100/5000, Loss: 2935.432804204823\n",
      "Epoch: 2200/5000, Loss: 2935.179813712883\n",
      "Epoch: 2300/5000, Loss: 2934.9610744124257\n",
      "Epoch: 2400/5000, Loss: 2934.7677888033622\n",
      "Epoch: 2500/5000, Loss: 2934.593549768435\n",
      "Epoch: 2600/5000, Loss: 2934.4336583510353\n",
      "Epoch: 2700/5000, Loss: 2934.2846468666357\n",
      "Epoch: 2800/5000, Loss: 2934.1439421817468\n",
      "Epoch: 2900/5000, Loss: 2934.009625712359\n",
      "Epoch: 3000/5000, Loss: 2933.8802608604874\n",
      "Epoch: 3100/5000, Loss: 2933.754767942963\n",
      "Epoch: 3200/5000, Loss: 2933.6323328821377\n",
      "Epoch: 3300/5000, Loss: 2933.51234010947\n",
      "Epoch: 3400/5000, Loss: 2933.394322975077\n",
      "Epoch: 3500/5000, Loss: 2933.277926908056\n",
      "Epoch: 3600/5000, Loss: 2933.1628819262564\n",
      "Epoch: 3700/5000, Loss: 2933.048982042528\n",
      "Epoch: 3800/5000, Loss: 2932.936069785049\n",
      "Epoch: 3900/5000, Loss: 2932.824024527689\n",
      "Epoch: 4000/5000, Loss: 2932.712753670457\n",
      "Epoch: 4100/5000, Loss: 2932.6021859595085\n",
      "Epoch: 4200/5000, Loss: 2932.492266418257\n",
      "Epoch: 4300/5000, Loss: 2932.3829524948483\n",
      "Epoch: 4400/5000, Loss: 2932.274211130095\n",
      "Epoch: 4500/5000, Loss: 2932.1660165232893\n",
      "Epoch: 4600/5000, Loss: 2932.058348428044\n",
      "Epoch: 4700/5000, Loss: 2931.9511908512563\n",
      "Epoch: 4800/5000, Loss: 2931.844531059057\n",
      "Epoch: 4900/5000, Loss: 2931.7383588167904\n",
      "Epoch: 5000/5000, Loss: 2931.6326658075636\n"
     ]
    }
   ],
   "source": [
    "# 총 5000번의 시행으로 훈련 데이터로 모델을 학습 및 손실함수를 계산한 후 기울기 함수에 반영한다.\n",
    "# 기울기 함수에서 업데이트한 값으로 가중치와 편향을 조정한 뒤 다시 학습을 반복한다.\n",
    "for i in range(1, 5001):\n",
    "    pred = model(X_train)\n",
    "    loss = mse_loss(y_train, pred)\n",
    "    dW, db = gradient(X_train, y_train, pred)\n",
    "    W -= LEARNING_RATE * dW\n",
    "    b -= LEARNING_RATE * db\n",
    "    # 100n번째 수행마다 손실함수 값을 출력\n",
    "    if i % 100 == 0:\n",
    "        print(f\"Epoch: {i}/5000, Loss: {loss}\")"
   ]
  },
  {
   "cell_type": "code",
   "execution_count": 10,
   "id": "23b68876",
   "metadata": {},
   "outputs": [
    {
     "name": "stdout",
     "output_type": "stream",
     "text": [
      "Test loss ; 2844.4076002388347\n"
     ]
    }
   ],
   "source": [
    "# 테스트 데이터로 모델을 테스트. 손실함수 값이 3000 이하임을 확인\n",
    "test_pred = model(X_test)\n",
    "test_loss = mse_loss(y_test, test_pred)\n",
    "print(f\"Test loss ; {test_loss}\")"
   ]
  },
  {
   "cell_type": "code",
   "execution_count": 11,
   "id": "4a2042bb",
   "metadata": {},
   "outputs": [
    {
     "data": {
      "image/png": "[encoded data removed]",
      "text/plain": [
       "<Figure size 432x288 with 1 Axes>"
      ]
     },
     "metadata": {
      "needs_background": "light"
     },
     "output_type": "display_data"
    }
   ],
   "source": [
    "# matplotlib을 이용하여 실제 데이터와 모델의 예측값를 산점도로 표현\n",
    "plt.scatter(X_test[:,0], y_test, label='labels')\n",
    "plt.scatter(X_test[:,0], test_pred, label='predicted')\n",
    "plt.xlabel('First_feature')\n",
    "plt.ylabel('Target')\n",
    "plt.legend()\n",
    "plt.show()"
   ]
  },
  {
   "cell_type": "code",
   "execution_count": null,
   "id": "cb688092",
   "metadata": {},
   "outputs": [],
   "source": []
  },
  {
   "cell_type": "code",
   "execution_count": null,
   "id": "f8b513b1",
   "metadata": {},
   "outputs": [],
   "source": []
  }
 ],
 "metadata": {
  "kernelspec": {
   "display_name": "Python 3 (ipykernel)",
   "language": "python",
   "name": "python3"
  },
  "language_info": {
   "codemirror_mode": {
    "name": "ipython",
    "version": 3
   },
   "file_extension": ".py",
   "mimetype": "text/x-python",
   "name": "python",
   "nbconvert_exporter": "python",
   "pygments_lexer": "ipython3",
   "version": "3.9.7"
  }
 },
 "nbformat": 4,
 "nbformat_minor": 5
}
