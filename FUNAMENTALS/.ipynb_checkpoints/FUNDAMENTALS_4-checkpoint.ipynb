{
 "cells": [
  {
   "cell_type": "markdown",
   "id": "bfa47baf",
   "metadata": {},
   "source": [
    "# 7. 다양한 데이터 전처리 기법"
   ]
  },
  {
   "cell_type": "markdown",
   "id": "a18e7681",
   "metadata": {},
   "source": [
    "## 7-1. 들어가며"
   ]
  },
  {
   "cell_type": "markdown",
   "id": "0768c472",
   "metadata": {},
   "source": [
    "### Z-Score"
   ]
  },
  {
   "cell_type": "code",
   "execution_count": null,
   "id": "451955ad",
   "metadata": {},
   "outputs": [],
   "source": [
    "import pandas as pd\n",
    "import numpy as np\n",
    "import matplotlib.pyplot as plt\n",
    "\n",
    "print(\"👽 Hello.\")"
   ]
  },
  {
   "cell_type": "markdown",
   "id": "4e66d8cc",
   "metadata": {},
   "source": [
    "<span style = \"color:green; font-size:150%\"> \n",
    "<b>Q. 결측치가 하나라도 존재하는 데이터를 다시 확인해봅시다.</span>"
   ]
  },
  {
   "cell_type": "markdown",
   "id": "6116195b",
   "metadata": {},
   "source": [
    "<span style = \"color:gray; font-size:130%\">참고 Code</span>"
   ]
  }
 ],
 "metadata": {
  "kernelspec": {
   "display_name": "Python 3 (ipykernel)",
   "language": "python",
   "name": "python3"
  },
  "language_info": {
   "codemirror_mode": {
    "name": "ipython",
    "version": 3
   },
   "file_extension": ".py",
   "mimetype": "text/x-python",
   "name": "python",
   "nbconvert_exporter": "python",
   "pygments_lexer": "ipython3",
   "version": "3.9.7"
  }
 },
 "nbformat": 4,
 "nbformat_minor": 5
}
