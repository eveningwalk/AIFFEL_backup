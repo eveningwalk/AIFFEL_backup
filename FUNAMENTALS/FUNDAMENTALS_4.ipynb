{
 "cells": [
  {
   "cell_type": "markdown",
   "id": "f519b72a",
   "metadata": {},
   "source": [
    "# 4. Data 어떻게 표현하면 좋을까? 배열(array)과 표(table)"
   ]
  },
  {
   "cell_type": "markdown",
   "id": "4007247d",
   "metadata": {},
   "source": [
    "## 7-1. 들어가며"
   ]
  },
  {
   "cell_type": "markdown",
   "id": "226891dd",
   "metadata": {},
   "source": [
    "### Z-Score"
   ]
  },
  {
   "cell_type": "code",
   "execution_count": null,
   "id": "fc57bd1e",
   "metadata": {},
   "outputs": [],
   "source": [
    "import pandas as pd\n",
    "import numpy as np\n",
    "import matplotlib.pyplot as plt\n",
    "\n",
    "print(\"👽 Hello.\")"
   ]
  },
  {
   "cell_type": "markdown",
   "id": "67d2c6e6",
   "metadata": {},
   "source": [
    "<span style = \"color:green; font-size:150%\"> \n",
    "<b>Q. 결측치가 하나라도 존재하는 데이터를 다시 확인해봅시다.</span>"
   ]
  },
  {
   "cell_type": "markdown",
   "id": "ba93e55e",
   "metadata": {},
   "source": [
    "<span style = \"color:gray; font-size:130%\">참고 Code</span>"
   ]
  }
 ],
 "metadata": {
  "kernelspec": {
   "display_name": "Python 3 (ipykernel)",
   "language": "python",
   "name": "python3"
  },
  "language_info": {
   "codemirror_mode": {
    "name": "ipython",
    "version": 3
   },
   "file_extension": ".py",
   "mimetype": "text/x-python",
   "name": "python",
   "nbconvert_exporter": "python",
   "pygments_lexer": "ipython3",
   "version": "3.9.7"
  }
 },
 "nbformat": 4,
 "nbformat_minor": 5
}
